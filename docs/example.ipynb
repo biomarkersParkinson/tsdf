{
    "cells": [
        {
            "cell_type": "markdown",
            "metadata": {},
            "source": [
                "# Example usage\n",
                "\n",
                "To use `tsdf` in a project:"
            ]
        },
        {
            "cell_type": "code",
            "execution_count": 1,
            "metadata": {},
            "outputs": [
                {
                    "name": "stdout",
                    "output_type": "stream",
                    "text": [
                        "0.1.0\n"
                    ]
                }
            ],
            "source": [
                "import tsdf\n",
                "\n",
                "print(tsdf.__version__)"
            ]
        }
    ],
    "metadata": {
        "kernelspec": {
            "display_name": "tsdf-jvrgVaBR-py3.9",
            "language": "python",
            "name": "python3"
        },
        "language_info": {
            "codemirror_mode": {
                "name": "ipython",
                "version": 3
            },
            "file_extension": ".py",
            "mimetype": "text/x-python",
            "name": "python",
            "nbconvert_exporter": "python",
            "pygments_lexer": "ipython3",
            "version": "3.9.12"
        },
        "vscode": {
            "interpreter": {
                "hash": "0d75824af0ee1a2e7ac98055f9a1e179243bcaf829c515bd362f48ceaa63be97"
            }
        }
    },
    "nbformat": 4,
    "nbformat_minor": 4
}
