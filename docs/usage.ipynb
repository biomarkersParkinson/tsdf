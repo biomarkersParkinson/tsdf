{
 "cells": [
  {
   "attachments": {},
   "cell_type": "markdown",
   "metadata": {},
   "source": [
    "# Usage \n",
    "\n",
    "Input/Output of `tsdf` files (work in progress)"
   ]
  },
  {
   "cell_type": "markdown",
   "metadata": {},
   "source": [
    "## Using `json`"
   ]
  },
  {
   "cell_type": "code",
   "execution_count": 1,
   "metadata": {},
   "outputs": [],
   "source": [
    "from tsdf.io import load, loads\n",
    "\n",
    "with open(\"../tests/data/flat.json\", \"r\") as read_file:\n",
    "    data = load(read_file)"
   ]
  }
 ],
 "metadata": {
  "kernelspec": {
   "display_name": "Python 3.10.8 ('tsdf')",
   "language": "python",
   "name": "python3"
  },
  "language_info": {
   "codemirror_mode": {
    "name": "ipython",
    "version": 3
   },
   "file_extension": ".py",
   "mimetype": "text/x-python",
   "name": "python",
   "nbconvert_exporter": "python",
   "pygments_lexer": "ipython3",
   "version": "3.9.16"
  },
  "orig_nbformat": 4,
  "vscode": {
   "interpreter": {
    "hash": "237a52c53308e1ad95829edf2d78ec7874ed6722f9691e1e5c1903f01554073b"
   }
  }
 },
 "nbformat": 4,
 "nbformat_minor": 2
}
