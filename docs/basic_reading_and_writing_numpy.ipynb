{
 "cells": [
  {
   "attachments": {},
   "cell_type": "markdown",
   "metadata": {},
   "source": [
    "# Basic reading and writing (numpy)\n",
    "\n",
    "These are some examples on how to read and write TSDF data into and from a numpy array, using the `tsdf` library."
   ]
  },
  {
   "cell_type": "code",
   "execution_count": 1,
   "metadata": {
    "tags": []
   },
   "outputs": [],
   "source": [
    "import tsdf"
   ]
  },
  {
   "attachments": {},
   "cell_type": "markdown",
   "metadata": {},
   "source": [
    "### Load some data"
   ]
  },
  {
   "cell_type": "code",
   "execution_count": 2,
   "metadata": {},
   "outputs": [
    {
     "name": "stdout",
     "output_type": "stream",
     "text": [
      "Data type:\t int16\n",
      "Data shape:\t (10, 3)\n"
     ]
    }
   ],
   "source": [
    "# The file names\n",
    "metadata_path = \"data/example_meta.json\"\n",
    "binary_filename = \"example_binary.bin\"\n",
    "\n",
    "# Multiple metadata files (one for each binary) are loaded into a dictionary\n",
    "# mapping the binary file name to the metadata object\n",
    "metadata_dict = tsdf.load_metadata_from_path(metadata_path)\n",
    "\n",
    "# Retrieve the metadata object we want, using the name of the binary as key\n",
    "metadata = metadata_dict[binary_filename]\n",
    "\n",
    "# Load the data\n",
    "data = tsdf.load_ndarray_from_binary(metadata)\n",
    "\n",
    "# Print some info\n",
    "print(f\"Data type:\\t {data.dtype}\")\n",
    "print(f\"Data shape:\\t {data.shape}\")"
   ]
  },
  {
   "attachments": {},
   "cell_type": "markdown",
   "metadata": {},
   "source": [
    "### Perform basic data processing"
   ]
  },
  {
   "cell_type": "code",
   "execution_count": 3,
   "metadata": {},
   "outputs": [
    {
     "name": "stdout",
     "output_type": "stream",
     "text": [
      "Processed data type:\t float32\n",
      "Data shape:\t\t (10, 3)\n"
     ]
    }
   ],
   "source": [
    "# Perform an operation, resulting in a different data type\n",
    "processed_data_1 = (data / 10).astype('float32')\n",
    "\n",
    "# Print some info\n",
    "print(f\"Processed data type:\\t {processed_data_1.dtype}\")\n",
    "print(f\"Data shape:\\t\\t {processed_data_1.shape}\")"
   ]
  },
  {
   "attachments": {},
   "cell_type": "markdown",
   "metadata": {},
   "source": [
    "### Write the processed data \n",
    "Write the processed data in binary format. The call returns the corresponding metadata object."
   ]
  },
  {
   "cell_type": "code",
   "execution_count": 4,
   "metadata": {},
   "outputs": [
    {
     "name": "stdout",
     "output_type": "stream",
     "text": [
      "File written to data/tmp_example_processed.bin\n"
     ]
    }
   ],
   "source": [
    "# The new name of the file\n",
    "output_bin_filename = \"tmp_example_processed.bin\"\n",
    "\n",
    "# Write the data to a new binary file\n",
    "processed_metadata_1 = tsdf.write_binary_file(\n",
    "        \"data\",\n",
    "        output_bin_filename,\n",
    "        processed_data_1,\n",
    "        metadata.get_plain_tsdf_dict_copy(),\n",
    "    )\n",
    "\n",
    "print(f\"File written to data/{output_bin_filename}\")"
   ]
  },
  {
   "attachments": {},
   "cell_type": "markdown",
   "metadata": {},
   "source": [
    "### Write the TSDF metadata file"
   ]
  },
  {
   "cell_type": "code",
   "execution_count": 5,
   "metadata": {},
   "outputs": [
    {
     "name": "stdout",
     "output_type": "stream",
     "text": [
      "File written to data/tmp_example_processed_meta.json\n"
     ]
    }
   ],
   "source": [
    "# Write new metadata file\n",
    "output_meta_filename = \"tmp_example_processed_meta.json\"\n",
    "tsdf.write_metadata([processed_metadata_1], output_meta_filename)\n",
    "print(f\"File written to data/{output_meta_filename}\")"
   ]
  },
  {
   "attachments": {},
   "cell_type": "markdown",
   "metadata": {},
   "source": [
    "### Write a metadata file that combines multiple binary files"
   ]
  },
  {
   "cell_type": "code",
   "execution_count": 6,
   "metadata": {},
   "outputs": [
    {
     "name": "stdout",
     "output_type": "stream",
     "text": [
      "File written to data/tmp_example_processed_2.bin\n",
      "File written to data/tmp_example_processed_2_meta.json\n"
     ]
    }
   ],
   "source": [
    "# Preprocess the original data to generate another data source\n",
    "processed_data_2 = (data * 1000).astype(\"int32\")\n",
    "\n",
    "# Adjust the metadata slightly\n",
    "updated_metadata = metadata.get_plain_tsdf_dict_copy()\n",
    "updated_metadata.pop(\"scale_factors\")  # remove the 'scale_factors'\n",
    "\n",
    "# Save the new binary file\n",
    "output_bin_filename_2 = \"tmp_example_processed_2.bin\"\n",
    "processed_metadata_2 = tsdf.write_binary_file(\n",
    "    \"data\",\n",
    "    output_bin_filename_2,\n",
    "    processed_data_2,\n",
    "    updated_metadata,\n",
    ")\n",
    "print(f\"File written to data/{output_bin_filename_2}\")\n",
    "\n",
    "# Write a metadata file that combines the two binary files\n",
    "output_meta_filename_2 = \"tmp_example_processed_2_meta.json\"\n",
    "tsdf.write_metadata([processed_metadata_1, processed_metadata_2],\n",
    "    output_meta_filename_2)\n",
    "print(f\"File written to data/{output_meta_filename_2}\")"
   ]
  }
 ],
 "metadata": {
  "kernelspec": {
   "display_name": "tsdf-zVA6tG---py3.9",
   "language": "python",
   "name": "python3"
  },
  "language_info": {
   "codemirror_mode": {
    "name": "ipython",
    "version": 3
   },
   "file_extension": ".py",
   "mimetype": "text/x-python",
   "name": "python",
   "nbconvert_exporter": "python",
   "pygments_lexer": "ipython3",
   "version": "3.9.13"
  },
  "orig_nbformat": 4,
  "vscode": {
   "interpreter": {
    "hash": "d1e978847a77d4ff49203fd09f0f7925f58560bf1007438482d75cb657018d9b"
   }
  }
 },
 "nbformat": 4,
 "nbformat_minor": 2
}
