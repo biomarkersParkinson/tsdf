{
 "cells": [
  {
   "attachments": {},
   "cell_type": "markdown",
   "metadata": {},
   "source": [
    "# Usage Examples\n",
    "\n",
    "These are some examples on how to read and write TSDF data into and from a numpy array, using the `tsdf` library."
   ]
  },
  {
   "attachments": {},
   "cell_type": "markdown",
   "metadata": {},
   "source": [
    "## How to run these examples\n",
    "\n",
    "### Imports\n"
   ]
  },
  {
   "cell_type": "code",
   "execution_count": 1,
   "metadata": {
    "tags": []
   },
   "outputs": [
    {
     "name": "stdout",
     "output_type": "stream",
     "text": [
      "/Users/peter/miniforge3/lib/python3.9/site-packages/tsdf\n"
     ]
    }
   ],
   "source": [
    "import os\n",
    "import numpy as np\n",
    "import tsdf"
   ]
  },
  {
   "cell_type": "markdown",
   "metadata": {},
   "source": [
    "### Set data location"
   ]
  },
  {
   "cell_type": "code",
   "execution_count": 2,
   "metadata": {},
   "outputs": [],
   "source": [
    "data_dir = \"../tests/data\""
   ]
  },
  {
   "attachments": {},
   "cell_type": "markdown",
   "metadata": {},
   "source": [
    "## Process an existing binary file and write the new data\n",
    "Read and process an existing binary data (accompanied by the TSDF metadata), process the data and save it in the new format, with the corresponding TSDF metadata file.\n",
    "\n",
    "### Load dummy data"
   ]
  },
  {
   "cell_type": "code",
   "execution_count": 3,
   "metadata": {},
   "outputs": [
    {
     "name": "stdout",
     "output_type": "stream",
     "text": [
      "Data type used for storing:\t int16\n",
      "Data dimensions:\t\t (10, 3)\n",
      "Number of rows:\t\t\t 10\n"
     ]
    }
   ],
   "source": [
    "# The name of the data\n",
    "data_name = \"example_10_3_int16\"\n",
    "\n",
    "# Multiple metadata files (for each binary) are loaded into a dictionary\n",
    "metadata_dict = tsdf.load_metadata_from_path(f\"{data_dir}/{data_name}_meta.json\")\n",
    "\n",
    "# Retrieve the metadata object we want, using the name of the binary as key\n",
    "metadata = metadata_dict[f\"{data_name}.bin\"]\n",
    "\n",
    "# Load the data\n",
    "data = metadata.load_binary()\n",
    "\n",
    "# Print some info\n",
    "print(f\"Data type used for storing:\\t {data.dtype}\")\n",
    "print(f\"Data dimensions:\\t\\t {data.shape}\")\n",
    "print(f\"Number of rows:\\t\\t\\t {data.shape[0]}\")"
   ]
  },
  {
   "attachments": {},
   "cell_type": "markdown",
   "metadata": {},
   "source": [
    "### Perform basic data processing"
   ]
  },
  {
   "cell_type": "code",
   "execution_count": 4,
   "metadata": {},
   "outputs": [
    {
     "name": "stdout",
     "output_type": "stream",
     "text": [
      "Data type used for storing:\t float32\n",
      "Data dimensions:\t\t (10, 3)\n",
      "Number of rows:\t\t\t 10\n"
     ]
    }
   ],
   "source": [
    "# Perform an operation, resulting in a different data type\n",
    "processed_data_1 = (data / 10).astype('float32')\n",
    "\n",
    "# Print some info\n",
    "print(f\"Data type used for storing:\\t {processed_data_1.dtype}\")\n",
    "print(f\"Data dimensions:\\t\\t {processed_data_1.shape}\")\n",
    "print(f\"Number of rows:\\t\\t\\t {processed_data_1.shape[0]}\")"
   ]
  },
  {
   "attachments": {},
   "cell_type": "markdown",
   "metadata": {},
   "source": [
    "### Write the processed data \n",
    "Write the processed data in binary format. The call returns the corresponding metadata object."
   ]
  },
  {
   "cell_type": "code",
   "execution_count": 5,
   "metadata": {},
   "outputs": [],
   "source": [
    "# The new name of the file\n",
    "processed_data_name_1 = \"tmp_test_example_10_3_int16_to_float32\"\n",
    "\n",
    "# Write the data to a new binary file\n",
    "processed_metadata_1 = tsdf.write_binary_file(\n",
    "        data_dir,\n",
    "        f\"{processed_data_name_1}.bin\",\n",
    "        processed_data_1,\n",
    "        metadata.get_plain_tsdf_dict_copy(),\n",
    "    )"
   ]
  },
  {
   "attachments": {},
   "cell_type": "markdown",
   "metadata": {},
   "source": [
    "### Write the TSDF metadata file"
   ]
  },
  {
   "cell_type": "code",
   "execution_count": 6,
   "metadata": {},
   "outputs": [],
   "source": [
    "# Write new metadata file\n",
    "tsdf.write_metadata([processed_metadata_1], f\"{processed_data_name_1}_meta.json\")"
   ]
  },
  {
   "attachments": {},
   "cell_type": "markdown",
   "metadata": {},
   "source": [
    "### Write a metadata file that combines multiple binary files"
   ]
  },
  {
   "cell_type": "code",
   "execution_count": 7,
   "metadata": {},
   "outputs": [],
   "source": [
    "# Preprocess the original data to generate another data source\n",
    "processed_data_2 = (data * 1000).astype(\"int32\")\n",
    "\n",
    "# Adjust the metadata slightly\n",
    "updated_metadata = metadata.get_plain_tsdf_dict_copy()\n",
    "updated_metadata.pop(\"scale_factors\")  # remove the 'scale_factors'\n",
    "\n",
    "# Save the new binary file\n",
    "processed_data_name_2 = \"tmp_test_example_10_3_int16_to_int32\"\n",
    "processed_metadata_2 = tsdf.write_binary_file(\n",
    "    data_dir,\n",
    "    f\"{processed_data_name_2}_.bin\",\n",
    "    processed_data_2,\n",
    "    updated_metadata,\n",
    ")\n",
    "\n",
    "# Write a metadata file that combines the two binary files\n",
    "tsdf.write_metadata(\n",
    "    [processed_metadata_1, processed_metadata_2],\n",
    "    \"tmp_test_example_10_3_int16_to_int_n_float_meta.json\",\n",
    ")"
   ]
  },
  {
   "attachments": {},
   "cell_type": "markdown",
   "metadata": {},
   "source": [
    "## Generate and save data from scratch"
   ]
  },
  {
   "cell_type": "code",
   "execution_count": 8,
   "metadata": {},
   "outputs": [],
   "source": [
    "# Generate random data\n",
    "rs = np.random.RandomState(seed=42)\n",
    "data_1 = rs.rand(17, 1).astype(np.float32)\n",
    "data_2 = rs.rand(15, 2).astype(np.int16)\n",
    "data_3 = rs.rand(10, 3).astype(np.int16)\n",
    "\n",
    "# Define the metadata\n",
    "new_metadata = {\n",
    "    \"subject_id\": \"example\",\n",
    "    \"study_id\": \"example\",\n",
    "    \"device_id\": \"example\",\n",
    "    \"endianness\": \"little\",\n",
    "    \"metadata_version\": \"0.1\",\n",
    "    \"start_datetime_unix_ms\": 1571135957025,\n",
    "    \"start_iso8601\": \"2019-10-15T10:39:17.025000+00:00\",\n",
    "    \"end_datetime_unix_ms\": 1571168851826,\n",
    "    \"end_iso8601\": \"2019-10-15T19:47:31.826000+00:00\",\n",
    "    \"channels\": [\"x\", \"y\", \"z\"],\n",
    "    \"units\": [\"m/s/s\", \"m/s/s\", \"m/s/s\"]\n",
    "}\n",
    "\n",
    "# Write the three binary files based on the provided metadata\n",
    "file_prefix = \"tmp_test\"\n",
    "new_meta_1 = tsdf.write_binary_file(data_dir, f\"{file_prefix}_1.bin\", data_1, new_metadata)\n",
    "new_meta_2 = tsdf.write_binary_file(data_dir, f\"{file_prefix}_2.bin\", data_2, new_metadata)\n",
    "new_meta_3 = tsdf.write_binary_file(data_dir, f\"{file_prefix}_3.bin\", data_3, new_metadata)\n",
    "\n",
    "# Write the metadata file, which references the three binary files\n",
    "tsdf.write_metadata([new_meta_1, new_meta_2, new_meta_3], f\"{file_prefix}_meta.json\")"
   ]
  },
  {
   "attachments": {},
   "cell_type": "markdown",
   "metadata": {},
   "source": [
    "## Transform legacy (TSDB) format to the current TSDF v0.1\n",
    "Transform one file (or all files within the given directory) from TSDB to TSDF format."
   ]
  },
  {
   "cell_type": "code",
   "execution_count": 9,
   "metadata": {},
   "outputs": [],
   "source": [
    "from tsdf.legacy_tsdf_utils import (\n",
    "    generate_tsdf_metadata_from_tsdb,\n",
    "    convert_file_tsdb_to_tsdf,\n",
    "    convert_files_tsdb_to_tsdf,\n",
    ")\n",
    "\n",
    "# Path to the metadata file\n",
    "path_to_file = os.path.join(data_dir, \"ppp_format_meta_legacy.json\")\n",
    "path_to_new_file = os.path.join(data_dir, \"tmp_ppp_format_meta.json\")\n",
    "\n",
    "# Generate a TSDF metadata file from TSDB\n",
    "generate_tsdf_metadata_from_tsdb(path_to_file, path_to_new_file)\n",
    "\n",
    "# Convert a TSDB metadata file to TSDB format\n",
    "# convert_metadata_tsdb_to_tsdf(path_to_file)\n",
    "\n",
    "# Convert all metadata files in the directory from TSDB to TSDF format\n",
    "# convert_metadatas_tsdb_to_tsdf(path_to_dir)"
   ]
  },
  {
   "attachments": {},
   "cell_type": "markdown",
   "metadata": {},
   "source": [
    "## Validate TSDF file\n",
    "\n",
    "Files can be validated using the validator module, which is also callable from the command line. The validator checks the metadata file and inspects whether the binary file is consistent with the metadata. This snippet shows how to use the validator from code."
   ]
  },
  {
   "cell_type": "code",
   "execution_count": 10,
   "metadata": {},
   "outputs": [
    {
     "name": "stdout",
     "output_type": "stream",
     "text": [
      "Successfully loaded binary file ppp_format_time.bin, resulting shape: (17,)\n",
      "Successfully loaded binary file ppp_format_samples.bin, resulting shape: (17, 6)\n"
     ]
    }
   ],
   "source": [
    "# Import the validator\n",
    "from tsdf import validator\n",
    "\n",
    "# Verify the metadata file\n",
    "path_to_metadata_file = os.path.join(data_dir, \"ppp_format_meta.json\")\n",
    "validator.validate_tsdf_format(path_to_metadata_file)"
   ]
  }
 ],
 "metadata": {
  "kernelspec": {
   "display_name": "tsdf-zVA6tG---py3.9",
   "language": "python",
   "name": "python3"
  },
  "language_info": {
   "codemirror_mode": {
    "name": "ipython",
    "version": 3
   },
   "file_extension": ".py",
   "mimetype": "text/x-python",
   "name": "python",
   "nbconvert_exporter": "python",
   "pygments_lexer": "ipython3",
   "version": "3.9.13"
  },
  "orig_nbformat": 4,
  "vscode": {
   "interpreter": {
    "hash": "d1e978847a77d4ff49203fd09f0f7925f58560bf1007438482d75cb657018d9b"
   }
  }
 },
 "nbformat": 4,
 "nbformat_minor": 2
}
