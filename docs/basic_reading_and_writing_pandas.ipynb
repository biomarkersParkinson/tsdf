{
 "cells": [
  {
   "attachments": {},
   "cell_type": "markdown",
   "metadata": {},
   "source": [
    "# Basic reading and writing (pandas)\n",
    "\n",
    "These are some examples on how to read and write TSDF data into and from a numpy array, using the `tsdf` library."
   ]
  },
  {
   "cell_type": "code",
   "execution_count": 1,
   "metadata": {
    "tags": []
   },
   "outputs": [],
   "source": [
    "import tsdf"
   ]
  },
  {
   "cell_type": "markdown",
   "metadata": {},
   "source": [
    "### Load some data"
   ]
  },
  {
   "cell_type": "code",
   "execution_count": 2,
   "metadata": {},
   "outputs": [
    {
     "name": "stdout",
     "output_type": "stream",
     "text": [
      "Data shape:\t (17, 7)\n"
     ]
    },
    {
     "data": {
      "text/html": [
       "<div>\n",
       "<style scoped>\n",
       "    .dataframe tbody tr th:only-of-type {\n",
       "        vertical-align: middle;\n",
       "    }\n",
       "\n",
       "    .dataframe tbody tr th {\n",
       "        vertical-align: top;\n",
       "    }\n",
       "\n",
       "    .dataframe thead th {\n",
       "        text-align: right;\n",
       "    }\n",
       "</style>\n",
       "<table border=\"1\" class=\"dataframe\">\n",
       "  <thead>\n",
       "    <tr style=\"text-align: right;\">\n",
       "      <th></th>\n",
       "      <th>time</th>\n",
       "      <th>acceleration_x</th>\n",
       "      <th>acceleration_y</th>\n",
       "      <th>acceleration_z</th>\n",
       "      <th>rotation_x</th>\n",
       "      <th>rotation_y</th>\n",
       "      <th>rotation_z</th>\n",
       "    </tr>\n",
       "  </thead>\n",
       "  <tbody>\n",
       "    <tr>\n",
       "      <th>0</th>\n",
       "      <td>0.374540</td>\n",
       "      <td>6</td>\n",
       "      <td>1</td>\n",
       "      <td>3</td>\n",
       "      <td>2</td>\n",
       "      <td>5</td>\n",
       "      <td>3</td>\n",
       "    </tr>\n",
       "    <tr>\n",
       "      <th>1</th>\n",
       "      <td>0.950714</td>\n",
       "      <td>7</td>\n",
       "      <td>9</td>\n",
       "      <td>1</td>\n",
       "      <td>4</td>\n",
       "      <td>6</td>\n",
       "      <td>0</td>\n",
       "    </tr>\n",
       "    <tr>\n",
       "      <th>2</th>\n",
       "      <td>0.731994</td>\n",
       "      <td>9</td>\n",
       "      <td>2</td>\n",
       "      <td>2</td>\n",
       "      <td>6</td>\n",
       "      <td>7</td>\n",
       "      <td>1</td>\n",
       "    </tr>\n",
       "    <tr>\n",
       "      <th>3</th>\n",
       "      <td>0.598659</td>\n",
       "      <td>7</td>\n",
       "      <td>4</td>\n",
       "      <td>3</td>\n",
       "      <td>2</td>\n",
       "      <td>7</td>\n",
       "      <td>2</td>\n",
       "    </tr>\n",
       "    <tr>\n",
       "      <th>4</th>\n",
       "      <td>0.156019</td>\n",
       "      <td>7</td>\n",
       "      <td>4</td>\n",
       "      <td>2</td>\n",
       "      <td>0</td>\n",
       "      <td>5</td>\n",
       "      <td>5</td>\n",
       "    </tr>\n",
       "  </tbody>\n",
       "</table>\n",
       "</div>"
      ],
      "text/plain": [
       "       time  acceleration_x  acceleration_y  acceleration_z  rotation_x  \\\n",
       "0  0.374540               6               1               3           2   \n",
       "1  0.950714               7               9               1           4   \n",
       "2  0.731994               9               2               2           6   \n",
       "3  0.598659               7               4               3           2   \n",
       "4  0.156019               7               4               2           0   \n",
       "\n",
       "   rotation_y  rotation_z  \n",
       "0           5           3  \n",
       "1           6           0  \n",
       "2           7           1  \n",
       "3           7           2  \n",
       "4           5           5  "
      ]
     },
     "execution_count": 2,
     "metadata": {},
     "output_type": "execute_result"
    }
   ],
   "source": [
    "# Load the metadata\n",
    "metadata_path = \"data/ppp_format_meta.json\"\n",
    "metadata_dict = tsdf.load_metadata_from_path(metadata_path)\n",
    "metadata_time = metadata_dict[\"ppp_format_time.bin\"]\n",
    "metadata_samples = metadata_dict[\"ppp_format_samples.bin\"]\n",
    "\n",
    "# Load the data\n",
    "df = tsdf.load_binaries_to_dataframe([metadata_time, metadata_samples])\n",
    "\n",
    "# Print some info\n",
    "print(f\"Data shape:\\t {df.shape}\")\n",
    "df.head()"
   ]
  },
  {
   "attachments": {},
   "cell_type": "markdown",
   "metadata": {},
   "source": [
    "### Perform basic data processing"
   ]
  },
  {
   "cell_type": "code",
   "execution_count": 3,
   "metadata": {},
   "outputs": [
    {
     "name": "stdout",
     "output_type": "stream",
     "text": [
      "Scale factors: [0.00469378, 0.00469378, 0.00469378, 0.06097561, 0.06097561, 0.06097561]\n",
      "Data shape:\t\t (17, 7)\n"
     ]
    },
    {
     "data": {
      "text/html": [
       "<div>\n",
       "<style scoped>\n",
       "    .dataframe tbody tr th:only-of-type {\n",
       "        vertical-align: middle;\n",
       "    }\n",
       "\n",
       "    .dataframe tbody tr th {\n",
       "        vertical-align: top;\n",
       "    }\n",
       "\n",
       "    .dataframe thead th {\n",
       "        text-align: right;\n",
       "    }\n",
       "</style>\n",
       "<table border=\"1\" class=\"dataframe\">\n",
       "  <thead>\n",
       "    <tr style=\"text-align: right;\">\n",
       "      <th></th>\n",
       "      <th>time</th>\n",
       "      <th>acceleration_x</th>\n",
       "      <th>acceleration_y</th>\n",
       "      <th>acceleration_z</th>\n",
       "      <th>rotation_x</th>\n",
       "      <th>rotation_y</th>\n",
       "      <th>rotation_z</th>\n",
       "    </tr>\n",
       "  </thead>\n",
       "  <tbody>\n",
       "    <tr>\n",
       "      <th>0</th>\n",
       "      <td>0.374540</td>\n",
       "      <td>0.028163</td>\n",
       "      <td>0.004694</td>\n",
       "      <td>0.014081</td>\n",
       "      <td>0.121951</td>\n",
       "      <td>0.304878</td>\n",
       "      <td>0.182927</td>\n",
       "    </tr>\n",
       "    <tr>\n",
       "      <th>1</th>\n",
       "      <td>0.950714</td>\n",
       "      <td>0.032856</td>\n",
       "      <td>0.042244</td>\n",
       "      <td>0.004694</td>\n",
       "      <td>0.243902</td>\n",
       "      <td>0.365854</td>\n",
       "      <td>0.000000</td>\n",
       "    </tr>\n",
       "    <tr>\n",
       "      <th>2</th>\n",
       "      <td>0.731994</td>\n",
       "      <td>0.042244</td>\n",
       "      <td>0.009388</td>\n",
       "      <td>0.009388</td>\n",
       "      <td>0.365854</td>\n",
       "      <td>0.426829</td>\n",
       "      <td>0.060976</td>\n",
       "    </tr>\n",
       "    <tr>\n",
       "      <th>3</th>\n",
       "      <td>0.598659</td>\n",
       "      <td>0.032856</td>\n",
       "      <td>0.018775</td>\n",
       "      <td>0.014081</td>\n",
       "      <td>0.121951</td>\n",
       "      <td>0.426829</td>\n",
       "      <td>0.121951</td>\n",
       "    </tr>\n",
       "    <tr>\n",
       "      <th>4</th>\n",
       "      <td>0.156019</td>\n",
       "      <td>0.032856</td>\n",
       "      <td>0.018775</td>\n",
       "      <td>0.009388</td>\n",
       "      <td>0.000000</td>\n",
       "      <td>0.304878</td>\n",
       "      <td>0.304878</td>\n",
       "    </tr>\n",
       "  </tbody>\n",
       "</table>\n",
       "</div>"
      ],
      "text/plain": [
       "       time  acceleration_x  acceleration_y  acceleration_z  rotation_x  \\\n",
       "0  0.374540        0.028163        0.004694        0.014081    0.121951   \n",
       "1  0.950714        0.032856        0.042244        0.004694    0.243902   \n",
       "2  0.731994        0.042244        0.009388        0.009388    0.365854   \n",
       "3  0.598659        0.032856        0.018775        0.014081    0.121951   \n",
       "4  0.156019        0.032856        0.018775        0.009388    0.000000   \n",
       "\n",
       "   rotation_y  rotation_z  \n",
       "0    0.304878    0.182927  \n",
       "1    0.365854    0.000000  \n",
       "2    0.426829    0.060976  \n",
       "3    0.426829    0.121951  \n",
       "4    0.304878    0.304878  "
      ]
     },
     "execution_count": 3,
     "metadata": {},
     "output_type": "execute_result"
    }
   ],
   "source": [
    "scale_factors = getattr(metadata_samples, \"scale_factors\")\n",
    "print(f\"Scale factors: {scale_factors}\")\n",
    "\n",
    "# Perform scaling\n",
    "df_scaled = df.copy()\n",
    "df_scaled.iloc[:, 1:] = df_scaled.iloc[:, 1:].multiply(scale_factors, axis=1)\n",
    "\n",
    "# Print some info\n",
    "print(f\"Data shape:\\t\\t {df.shape}\")\n",
    "df_scaled.head()"
   ]
  },
  {
   "attachments": {},
   "cell_type": "markdown",
   "metadata": {},
   "source": [
    "### Write the processed data \n",
    "Write the processed data in binary format. The call updates the metadata object with the data attributes of the dataframe."
   ]
  },
  {
   "cell_type": "code",
   "execution_count": 4,
   "metadata": {},
   "outputs": [
    {
     "name": "stdout",
     "output_type": "stream",
     "text": [
      "File written to data/tmp_pandas_example_processed.bin\n"
     ]
    }
   ],
   "source": [
    "# The new name of the file\n",
    "output_bin_filename = \"tmp_pandas_example_processed.bin\"\n",
    "metadata_samples.__setattr__(\"file_name\", output_bin_filename)\n",
    "\n",
    "# Write the data to a new binary file\n",
    "tsdf.write_dataframe_to_binaries(\"data\", df_scaled, [metadata_time, metadata_samples])\n",
    "\n",
    "print(f\"File written to data/{output_bin_filename}\")"
   ]
  },
  {
   "attachments": {},
   "cell_type": "markdown",
   "metadata": {},
   "source": [
    "### Write the TSDF metadata file"
   ]
  },
  {
   "cell_type": "code",
   "execution_count": 5,
   "metadata": {},
   "outputs": [
    {
     "name": "stdout",
     "output_type": "stream",
     "text": [
      "File written to data/tmp_pandas_example_processed_meta.json\n"
     ]
    }
   ],
   "source": [
    "# Write new metadata file\n",
    "output_meta_filename = \"tmp_pandas_example_processed_meta.json\"\n",
    "tsdf.write_metadata([metadata_time, metadata_samples], output_meta_filename)\n",
    "print(f\"File written to data/{output_meta_filename}\")"
   ]
  }
 ],
 "metadata": {
  "kernelspec": {
   "display_name": "tsdf-zVA6tG---py3.9",
   "language": "python",
   "name": "python3"
  },
  "language_info": {
   "codemirror_mode": {
    "name": "ipython",
    "version": 3
   },
   "file_extension": ".py",
   "mimetype": "text/x-python",
   "name": "python",
   "nbconvert_exporter": "python",
   "pygments_lexer": "ipython3",
   "version": "3.9.13"
  },
  "orig_nbformat": 4,
  "vscode": {
   "interpreter": {
    "hash": "d1e978847a77d4ff49203fd09f0f7925f58560bf1007438482d75cb657018d9b"
   }
  }
 },
 "nbformat": 4,
 "nbformat_minor": 2
}
