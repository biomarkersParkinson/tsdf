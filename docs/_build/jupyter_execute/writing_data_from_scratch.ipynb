{
 "cells": [
  {
   "cell_type": "markdown",
   "metadata": {},
   "source": [
    "# Writing data from scratch\n",
    "\n",
    "When your data is not based on existing data, you will have to create a metadata object yourself."
   ]
  },
  {
   "cell_type": "code",
   "execution_count": 1,
   "metadata": {},
   "outputs": [],
   "source": [
    "import numpy as np\n",
    "import tsdf\n",
    "\n",
    "data_dir = \"data\""
   ]
  },
  {
   "cell_type": "code",
   "execution_count": 2,
   "metadata": {},
   "outputs": [
    {
     "name": "stdout",
     "output_type": "stream",
     "text": [
      "Files written to data/\n"
     ]
    }
   ],
   "source": [
    "# Generate random data\n",
    "rs = np.random.RandomState(seed=42)\n",
    "data_1 = rs.rand(17, 1).astype(np.float32)\n",
    "data_2 = rs.rand(15, 2).astype(np.int16)\n",
    "data_3 = rs.rand(10, 3).astype(np.int16)\n",
    "\n",
    "# Define the metadata\n",
    "basic_metadata = {\n",
    "    \"subject_id\": \"example\",\n",
    "    \"study_id\": \"example\",\n",
    "    \"device_id\": \"example\",\n",
    "    \"endianness\": \"little\",\n",
    "    \"metadata_version\": \"0.1\",\n",
    "    \"start_datetime_unix_ms\": 1571135957025,\n",
    "    \"start_iso8601\": \"2019-10-15T10:39:17.025000+00:00\",\n",
    "    \"end_datetime_unix_ms\": 1571168851826,\n",
    "    \"end_iso8601\": \"2019-10-15T19:47:31.826000+00:00\",\n",
    "    \"channels\": [\"x\", \"y\", \"z\"],\n",
    "    \"units\": [\"m/s/s\", \"m/s/s\", \"m/s/s\"]\n",
    "}\n",
    "\n",
    "# Write the three binary files based on the provided metadata.\n",
    "# The new_meta variables will contain the basic_metadata, combined\n",
    "# with the fields derived from the binary data (data type, bit depth, etc.)\n",
    "file_prefix = \"tmp_test\"\n",
    "new_meta_1 = tsdf.write_binary_file(data_dir, f\"{file_prefix}_1.bin\", data_1, basic_metadata)\n",
    "new_meta_2 = tsdf.write_binary_file(data_dir, f\"{file_prefix}_2.bin\", data_2, basic_metadata)\n",
    "new_meta_3 = tsdf.write_binary_file(data_dir, f\"{file_prefix}_3.bin\", data_3, basic_metadata)\n",
    "\n",
    "# Write the metadata file, which combines the metadata, in turn referencing the three binary files\n",
    "tsdf.write_metadata([new_meta_1, new_meta_2, new_meta_3], f\"{file_prefix}_meta.json\")\n",
    "print(f\"Files written to {data_dir}/\")"
   ]
  }
 ],
 "metadata": {
  "kernelspec": {
   "display_name": "tsdf-zVA6tG---py3.9",
   "language": "python",
   "name": "python3"
  },
  "language_info": {
   "codemirror_mode": {
    "name": "ipython",
    "version": 3
   },
   "file_extension": ".py",
   "mimetype": "text/x-python",
   "name": "python",
   "nbconvert_exporter": "python",
   "pygments_lexer": "ipython3",
   "version": "3.11.5"
  }
 },
 "nbformat": 4,
 "nbformat_minor": 2
}