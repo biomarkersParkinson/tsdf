{
 "cells": [
  {
   "cell_type": "markdown",
   "metadata": {},
   "source": [
    "# Validate TSDF file\n",
    "\n",
    "Files can be validated using the validator module, which is also callable from the command line. The validator checks the metadata file and inspects whether the binary file is consistent with the metadata.\n",
    "\n",
    "The validator can be called from the command line as follows:\n",
    "\n",
    "```bash\n",
    "pip install tsdf  # in case you didn't already do this\n",
    "validate-tsdf file-to-check.json\n",
    "```\n",
    "\n",
    "The snippet below shows how to use the validator from code."
   ]
  },
  {
   "cell_type": "code",
   "execution_count": 1,
   "metadata": {},
   "outputs": [],
   "source": [
    "import os\n",
    "from tsdf import validator\n",
    "\n",
    "data_dir = \"../tests/data\""
   ]
  },
  {
   "cell_type": "code",
   "execution_count": 2,
   "metadata": {},
   "outputs": [
    {
     "name": "stdout",
     "output_type": "stream",
     "text": [
      "Successfully loaded binary file ppp_format_time.bin, resulting shape: (17,)\n",
      "Successfully loaded binary file ppp_format_samples.bin, resulting shape: (17, 6)\n"
     ]
    }
   ],
   "source": [
    "# Verify the metadata file\n",
    "path_to_metadata_file = os.path.join(data_dir, \"ppp_format_meta.json\")\n",
    "result = validator.validate_tsdf_format(path_to_metadata_file)"
   ]
  }
 ],
 "metadata": {
  "kernelspec": {
   "display_name": "tsdf-zVA6tG---py3.9",
   "language": "python",
   "name": "python3"
  },
  "language_info": {
   "codemirror_mode": {
    "name": "ipython",
    "version": 3
   },
   "file_extension": ".py",
   "mimetype": "text/x-python",
   "name": "python",
   "nbconvert_exporter": "python",
   "pygments_lexer": "ipython3",
   "version": "3.11.5"
  }
 },
 "nbformat": 4,
 "nbformat_minor": 2
}