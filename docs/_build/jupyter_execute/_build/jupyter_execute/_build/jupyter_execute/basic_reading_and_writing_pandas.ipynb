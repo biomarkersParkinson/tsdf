{
 "cells": [
  {
   "attachments": {},
   "cell_type": "markdown",
   "metadata": {},
   "source": [
    "# Basic reading and writing (pandas)\n",
    "\n",
    "These are some examples on how to read and write TSDF data into and from a numpy array, using the `tsdf` library."
   ]
  },
  {
   "cell_type": "code",
   "execution_count": 1,
   "metadata": {
    "tags": []
   },
   "outputs": [],
   "source": [
    "import tsdf"
   ]
  },
  {
   "cell_type": "markdown",
   "metadata": {},
   "source": [
    "## Load some data"
   ]
  },
  {
   "cell_type": "code",
   "execution_count": 2,
   "metadata": {},
   "outputs": [
    {
     "ename": "FileNotFoundError",
     "evalue": "[Errno 2] No such file or directory: 'data/ppp_format_meta.json'",
     "output_type": "error",
     "traceback": [
      "\u001b[1;31m---------------------------------------------------------------------------\u001b[0m",
      "\u001b[1;31mFileNotFoundError\u001b[0m                         Traceback (most recent call last)",
      "Cell \u001b[1;32mIn[2], line 3\u001b[0m\n\u001b[0;32m      1\u001b[0m \u001b[38;5;66;03m# Load the metadata\u001b[39;00m\n\u001b[0;32m      2\u001b[0m metadata_path \u001b[38;5;241m=\u001b[39m \u001b[38;5;124m\"\u001b[39m\u001b[38;5;124mdata/ppp_format_meta.json\u001b[39m\u001b[38;5;124m\"\u001b[39m\n\u001b[1;32m----> 3\u001b[0m metadata_dict \u001b[38;5;241m=\u001b[39m \u001b[43mtsdf\u001b[49m\u001b[38;5;241;43m.\u001b[39;49m\u001b[43mload_metadata_from_path\u001b[49m\u001b[43m(\u001b[49m\u001b[43mmetadata_path\u001b[49m\u001b[43m)\u001b[49m\n\u001b[0;32m      4\u001b[0m metadata_time \u001b[38;5;241m=\u001b[39m metadata_dict[\u001b[38;5;124m\"\u001b[39m\u001b[38;5;124mppp_format_time.bin\u001b[39m\u001b[38;5;124m\"\u001b[39m]\n\u001b[0;32m      5\u001b[0m metadata_samples \u001b[38;5;241m=\u001b[39m metadata_dict[\u001b[38;5;124m\"\u001b[39m\u001b[38;5;124mppp_format_samples.bin\u001b[39m\u001b[38;5;124m\"\u001b[39m]\n",
      "File \u001b[1;32m~\\Documents\\PhD\\code\\tsdf\\src\\tsdf\\read_tsdf.py:84\u001b[0m, in \u001b[0;36mload_metadata_from_path\u001b[1;34m(path)\u001b[0m\n\u001b[0;32m     76\u001b[0m \u001b[38;5;250m\u001b[39m\u001b[38;5;124;03m\"\"\"\u001b[39;00m\n\u001b[0;32m     77\u001b[0m \u001b[38;5;124;03mLoads a TSDF metadata file, returns a dictionary\u001b[39;00m\n\u001b[0;32m     78\u001b[0m \n\u001b[1;32m   (...)\u001b[0m\n\u001b[0;32m     81\u001b[0m \u001b[38;5;124;03m:return: dictionary of TSDFMetadata objects.\u001b[39;00m\n\u001b[0;32m     82\u001b[0m \u001b[38;5;124;03m\"\"\"\u001b[39;00m\n\u001b[0;32m     83\u001b[0m \u001b[38;5;66;03m# The data is isomorphic to a JSON\u001b[39;00m\n\u001b[1;32m---> 84\u001b[0m \u001b[38;5;28;01mwith\u001b[39;00m \u001b[38;5;28;43mopen\u001b[39;49m\u001b[43m(\u001b[49m\u001b[43mpath\u001b[49m\u001b[43m,\u001b[49m\u001b[43m \u001b[49m\u001b[38;5;124;43m\"\u001b[39;49m\u001b[38;5;124;43mr\u001b[39;49m\u001b[38;5;124;43m\"\u001b[39;49m\u001b[43m)\u001b[49m \u001b[38;5;28;01mas\u001b[39;00m file:\n\u001b[0;32m     85\u001b[0m     data \u001b[38;5;241m=\u001b[39m json\u001b[38;5;241m.\u001b[39mload(file)\n\u001b[0;32m     87\u001b[0m abs_path \u001b[38;5;241m=\u001b[39m os\u001b[38;5;241m.\u001b[39mpath\u001b[38;5;241m.\u001b[39mrealpath(path)\n",
      "\u001b[1;31mFileNotFoundError\u001b[0m: [Errno 2] No such file or directory: 'data/ppp_format_meta.json'"
     ]
    }
   ],
   "source": [
    "# Load the metadata\n",
    "metadata_path = \"data/ppp_format_meta.json\"\n",
    "metadata_dict = tsdf.load_metadata_from_path(metadata_path)\n",
    "metadata_time = metadata_dict[\"ppp_format_time.bin\"]\n",
    "metadata_samples = metadata_dict[\"ppp_format_samples.bin\"]\n",
    "\n",
    "# Load the data\n",
    "df = tsdf.load_dataframe_from_binaries([metadata_time, metadata_samples], tsdf.constants.ConcatenationType.columns)\n",
    "\n",
    "# Print some info\n",
    "print(f\"Data shape:\\t {df.shape}\")\n",
    "df.head()"
   ]
  },
  {
   "attachments": {},
   "cell_type": "markdown",
   "metadata": {},
   "source": [
    "## Perform basic data processing"
   ]
  },
  {
   "cell_type": "code",
   "execution_count": 3,
   "metadata": {},
   "outputs": [
    {
     "name": "stdout",
     "output_type": "stream",
     "text": [
      "Scale factors: [0.00469378, 0.00469378, 0.00469378, 0.06097561, 0.06097561, 0.06097561]\n",
      "Data shape:\t\t (17, 7)\n"
     ]
    },
    {
     "name": "stderr",
     "output_type": "stream",
     "text": [
      "C:\\Users\\erik_\\AppData\\Local\\Temp\\ipykernel_3148\\4007094660.py:6: FutureWarning: Setting an item of incompatible dtype is deprecated and will raise in a future error of pandas. Value '0     0.028163\n",
      "1     0.032856\n",
      "2     0.042244\n",
      "3     0.032856\n",
      "4     0.032856\n",
      "5     0.018775\n",
      "6     0.023469\n",
      "7     0.000000\n",
      "8     0.028163\n",
      "9     0.009388\n",
      "10    0.042244\n",
      "11    0.042244\n",
      "12    0.037550\n",
      "13    0.037550\n",
      "14    0.014081\n",
      "15    0.037550\n",
      "16    0.042244\n",
      "Name: acceleration_x, dtype: float64' has dtype incompatible with int16, please explicitly cast to a compatible dtype first.\n",
      "  df_scaled.iloc[:, 1:] = df_scaled.iloc[:, 1:].multiply(scale_factors, axis=1)\n",
      "C:\\Users\\erik_\\AppData\\Local\\Temp\\ipykernel_3148\\4007094660.py:6: FutureWarning: Setting an item of incompatible dtype is deprecated and will raise in a future error of pandas. Value '0     0.004694\n",
      "1     0.042244\n",
      "2     0.009388\n",
      "3     0.018775\n",
      "4     0.018775\n",
      "5     0.000000\n",
      "6     0.004694\n",
      "7     0.014081\n",
      "8     0.014081\n",
      "9     0.042244\n",
      "10    0.028163\n",
      "11    0.028163\n",
      "12    0.009388\n",
      "13    0.028163\n",
      "14    0.028163\n",
      "15    0.018775\n",
      "16    0.037550\n",
      "Name: acceleration_y, dtype: float64' has dtype incompatible with int16, please explicitly cast to a compatible dtype first.\n",
      "  df_scaled.iloc[:, 1:] = df_scaled.iloc[:, 1:].multiply(scale_factors, axis=1)\n",
      "C:\\Users\\erik_\\AppData\\Local\\Temp\\ipykernel_3148\\4007094660.py:6: FutureWarning: Setting an item of incompatible dtype is deprecated and will raise in a future error of pandas. Value '0     0.014081\n",
      "1     0.004694\n",
      "2     0.009388\n",
      "3     0.014081\n",
      "4     0.009388\n",
      "5     0.004694\n",
      "6     0.014081\n",
      "7     0.009388\n",
      "8     0.037550\n",
      "9     0.023469\n",
      "10    0.004694\n",
      "11    0.018775\n",
      "12    0.018775\n",
      "13    0.037550\n",
      "14    0.032856\n",
      "15    0.014081\n",
      "16    0.042244\n",
      "Name: acceleration_z, dtype: float64' has dtype incompatible with int16, please explicitly cast to a compatible dtype first.\n",
      "  df_scaled.iloc[:, 1:] = df_scaled.iloc[:, 1:].multiply(scale_factors, axis=1)\n",
      "C:\\Users\\erik_\\AppData\\Local\\Temp\\ipykernel_3148\\4007094660.py:6: FutureWarning: Setting an item of incompatible dtype is deprecated and will raise in a future error of pandas. Value '0     0.121951\n",
      "1     0.243902\n",
      "2     0.365854\n",
      "3     0.121951\n",
      "4     0.000000\n",
      "5     0.426829\n",
      "6     0.060976\n",
      "7     0.548780\n",
      "8     0.426829\n",
      "9     0.121951\n",
      "10    0.060976\n",
      "11    0.182927\n",
      "12    0.243902\n",
      "13    0.243902\n",
      "14    0.060976\n",
      "15    0.182927\n",
      "16    0.365854\n",
      "Name: rotation_x, dtype: float64' has dtype incompatible with int16, please explicitly cast to a compatible dtype first.\n",
      "  df_scaled.iloc[:, 1:] = df_scaled.iloc[:, 1:].multiply(scale_factors, axis=1)\n",
      "C:\\Users\\erik_\\AppData\\Local\\Temp\\ipykernel_3148\\4007094660.py:6: FutureWarning: Setting an item of incompatible dtype is deprecated and will raise in a future error of pandas. Value '0     0.304878\n",
      "1     0.365854\n",
      "2     0.426829\n",
      "3     0.426829\n",
      "4     0.304878\n",
      "5     0.243902\n",
      "6     0.243902\n",
      "7     0.304878\n",
      "8     0.000000\n",
      "9     0.548780\n",
      "10    0.060976\n",
      "11    0.304878\n",
      "12    0.304878\n",
      "13    0.426829\n",
      "14    0.304878\n",
      "15    0.060976\n",
      "16    0.243902\n",
      "Name: rotation_y, dtype: float64' has dtype incompatible with int16, please explicitly cast to a compatible dtype first.\n",
      "  df_scaled.iloc[:, 1:] = df_scaled.iloc[:, 1:].multiply(scale_factors, axis=1)\n",
      "C:\\Users\\erik_\\AppData\\Local\\Temp\\ipykernel_3148\\4007094660.py:6: FutureWarning: Setting an item of incompatible dtype is deprecated and will raise in a future error of pandas. Value '0     0.182927\n",
      "1     0.000000\n",
      "2     0.060976\n",
      "3     0.121951\n",
      "4     0.304878\n",
      "5     0.243902\n",
      "6     0.182927\n",
      "7     0.304878\n",
      "8     0.426829\n",
      "9     0.487805\n",
      "10    0.121951\n",
      "11    0.487805\n",
      "12    0.121951\n",
      "13    0.487805\n",
      "14    0.182927\n",
      "15    0.182927\n",
      "16    0.060976\n",
      "Name: rotation_z, dtype: float64' has dtype incompatible with int16, please explicitly cast to a compatible dtype first.\n",
      "  df_scaled.iloc[:, 1:] = df_scaled.iloc[:, 1:].multiply(scale_factors, axis=1)\n"
     ]
    },
    {
     "data": {
      "text/html": [
       "<div>\n",
       "<style scoped>\n",
       "    .dataframe tbody tr th:only-of-type {\n",
       "        vertical-align: middle;\n",
       "    }\n",
       "\n",
       "    .dataframe tbody tr th {\n",
       "        vertical-align: top;\n",
       "    }\n",
       "\n",
       "    .dataframe thead th {\n",
       "        text-align: right;\n",
       "    }\n",
       "</style>\n",
       "<table border=\"1\" class=\"dataframe\">\n",
       "  <thead>\n",
       "    <tr style=\"text-align: right;\">\n",
       "      <th></th>\n",
       "      <th>time</th>\n",
       "      <th>acceleration_x</th>\n",
       "      <th>acceleration_y</th>\n",
       "      <th>acceleration_z</th>\n",
       "      <th>rotation_x</th>\n",
       "      <th>rotation_y</th>\n",
       "      <th>rotation_z</th>\n",
       "    </tr>\n",
       "  </thead>\n",
       "  <tbody>\n",
       "    <tr>\n",
       "      <th>0</th>\n",
       "      <td>0.374540</td>\n",
       "      <td>0.028163</td>\n",
       "      <td>0.004694</td>\n",
       "      <td>0.014081</td>\n",
       "      <td>0.121951</td>\n",
       "      <td>0.304878</td>\n",
       "      <td>0.182927</td>\n",
       "    </tr>\n",
       "    <tr>\n",
       "      <th>1</th>\n",
       "      <td>0.950714</td>\n",
       "      <td>0.032856</td>\n",
       "      <td>0.042244</td>\n",
       "      <td>0.004694</td>\n",
       "      <td>0.243902</td>\n",
       "      <td>0.365854</td>\n",
       "      <td>0.000000</td>\n",
       "    </tr>\n",
       "    <tr>\n",
       "      <th>2</th>\n",
       "      <td>0.731994</td>\n",
       "      <td>0.042244</td>\n",
       "      <td>0.009388</td>\n",
       "      <td>0.009388</td>\n",
       "      <td>0.365854</td>\n",
       "      <td>0.426829</td>\n",
       "      <td>0.060976</td>\n",
       "    </tr>\n",
       "    <tr>\n",
       "      <th>3</th>\n",
       "      <td>0.598659</td>\n",
       "      <td>0.032856</td>\n",
       "      <td>0.018775</td>\n",
       "      <td>0.014081</td>\n",
       "      <td>0.121951</td>\n",
       "      <td>0.426829</td>\n",
       "      <td>0.121951</td>\n",
       "    </tr>\n",
       "    <tr>\n",
       "      <th>4</th>\n",
       "      <td>0.156019</td>\n",
       "      <td>0.032856</td>\n",
       "      <td>0.018775</td>\n",
       "      <td>0.009388</td>\n",
       "      <td>0.000000</td>\n",
       "      <td>0.304878</td>\n",
       "      <td>0.304878</td>\n",
       "    </tr>\n",
       "  </tbody>\n",
       "</table>\n",
       "</div>"
      ],
      "text/plain": [
       "       time  acceleration_x  acceleration_y  acceleration_z  rotation_x  \\\n",
       "0  0.374540        0.028163        0.004694        0.014081    0.121951   \n",
       "1  0.950714        0.032856        0.042244        0.004694    0.243902   \n",
       "2  0.731994        0.042244        0.009388        0.009388    0.365854   \n",
       "3  0.598659        0.032856        0.018775        0.014081    0.121951   \n",
       "4  0.156019        0.032856        0.018775        0.009388    0.000000   \n",
       "\n",
       "   rotation_y  rotation_z  \n",
       "0    0.304878    0.182927  \n",
       "1    0.365854    0.000000  \n",
       "2    0.426829    0.060976  \n",
       "3    0.426829    0.121951  \n",
       "4    0.304878    0.304878  "
      ]
     },
     "execution_count": 3,
     "metadata": {},
     "output_type": "execute_result"
    }
   ],
   "source": [
    "scale_factors = getattr(metadata_samples, \"scale_factors\")\n",
    "print(f\"Scale factors: {scale_factors}\")\n",
    "\n",
    "# Perform scaling\n",
    "df_scaled = df.copy()\n",
    "df_scaled.iloc[:, 1:] = df_scaled.iloc[:, 1:].multiply(scale_factors, axis=1)\n",
    "\n",
    "# Print some info\n",
    "print(f\"Data shape:\\t\\t {df.shape}\")\n",
    "df_scaled.head()"
   ]
  },
  {
   "attachments": {},
   "cell_type": "markdown",
   "metadata": {},
   "source": [
    "## Write the processed data \n",
    "Write the processed data in binary format. The call updates the metadata object with the data attributes of the dataframe."
   ]
  },
  {
   "cell_type": "code",
   "execution_count": 4,
   "metadata": {},
   "outputs": [
    {
     "name": "stdout",
     "output_type": "stream",
     "text": [
      "File written to data/tmp_pandas_example_processed.bin\n"
     ]
    }
   ],
   "source": [
    "# The new name of the file\n",
    "output_bin_filename = \"tmp_pandas_example_processed.bin\"\n",
    "metadata_samples.__setattr__(\"file_name\", output_bin_filename)\n",
    "\n",
    "# Write the data to a new binary file\n",
    "tsdf.write_dataframe_to_binaries(\"data\", df_scaled, [metadata_time, metadata_samples])\n",
    "\n",
    "print(f\"File written to data/{output_bin_filename}\")"
   ]
  },
  {
   "attachments": {},
   "cell_type": "markdown",
   "metadata": {},
   "source": [
    "## Write the TSDF metadata file"
   ]
  },
  {
   "cell_type": "code",
   "execution_count": 5,
   "metadata": {},
   "outputs": [
    {
     "name": "stdout",
     "output_type": "stream",
     "text": [
      "File written to data/tmp_pandas_example_processed_meta.json\n"
     ]
    }
   ],
   "source": [
    "# Write new metadata file\n",
    "output_meta_filename = \"tmp_pandas_example_processed_meta.json\"\n",
    "tsdf.write_metadata([metadata_time, metadata_samples], output_meta_filename)\n",
    "print(f\"File written to data/{output_meta_filename}\")"
   ]
  }
 ],
 "metadata": {
  "kernelspec": {
   "display_name": "tsdf-zVA6tG---py3.9",
   "language": "python",
   "name": "python3"
  },
  "language_info": {
   "codemirror_mode": {
    "name": "ipython",
    "version": 3
   },
   "file_extension": ".py",
   "mimetype": "text/x-python",
   "name": "python",
   "nbconvert_exporter": "python",
   "pygments_lexer": "ipython3",
   "version": "3.11.5"
  },
  "vscode": {
   "interpreter": {
    "hash": "d1e978847a77d4ff49203fd09f0f7925f58560bf1007438482d75cb657018d9b"
   }
  }
 },
 "nbformat": 4,
 "nbformat_minor": 2
}