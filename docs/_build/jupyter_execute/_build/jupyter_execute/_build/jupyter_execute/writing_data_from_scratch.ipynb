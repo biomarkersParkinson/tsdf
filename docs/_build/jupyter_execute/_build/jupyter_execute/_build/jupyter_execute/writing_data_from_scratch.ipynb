{
 "cells": [
  {
   "cell_type": "markdown",
   "metadata": {},
   "source": [
    "# Writing data from scratch\n",
    "\n",
    "When your data is not based on existing data, you will have to create a metadata object yourself."
   ]
  },
  {
   "cell_type": "code",
   "execution_count": 1,
   "metadata": {},
   "outputs": [],
   "source": [
    "import numpy as np\n",
    "import tsdf\n",
    "\n",
    "data_dir = \"data\""
   ]
  },
  {
   "cell_type": "code",
   "execution_count": 2,
   "metadata": {},
   "outputs": [
    {
     "ename": "FileNotFoundError",
     "evalue": "[Errno 2] No such file or directory: 'data\\\\tmp_test_1.bin'",
     "output_type": "error",
     "traceback": [
      "\u001b[1;31m---------------------------------------------------------------------------\u001b[0m",
      "\u001b[1;31mFileNotFoundError\u001b[0m                         Traceback (most recent call last)",
      "Cell \u001b[1;32mIn[2], line 26\u001b[0m\n\u001b[0;32m     22\u001b[0m \u001b[38;5;66;03m# Write the three binary files based on the provided metadata.\u001b[39;00m\n\u001b[0;32m     23\u001b[0m \u001b[38;5;66;03m# The new_meta variables will contain the basic_metadata, combined\u001b[39;00m\n\u001b[0;32m     24\u001b[0m \u001b[38;5;66;03m# with the fields derived from the binary data (data type, bit depth, etc.)\u001b[39;00m\n\u001b[0;32m     25\u001b[0m file_prefix \u001b[38;5;241m=\u001b[39m \u001b[38;5;124m\"\u001b[39m\u001b[38;5;124mtmp_test\u001b[39m\u001b[38;5;124m\"\u001b[39m\n\u001b[1;32m---> 26\u001b[0m new_meta_1 \u001b[38;5;241m=\u001b[39m \u001b[43mtsdf\u001b[49m\u001b[38;5;241;43m.\u001b[39;49m\u001b[43mwrite_binary_file\u001b[49m\u001b[43m(\u001b[49m\u001b[43mdata_dir\u001b[49m\u001b[43m,\u001b[49m\u001b[43m \u001b[49m\u001b[38;5;124;43mf\u001b[39;49m\u001b[38;5;124;43m\"\u001b[39;49m\u001b[38;5;132;43;01m{\u001b[39;49;00m\u001b[43mfile_prefix\u001b[49m\u001b[38;5;132;43;01m}\u001b[39;49;00m\u001b[38;5;124;43m_1.bin\u001b[39;49m\u001b[38;5;124;43m\"\u001b[39;49m\u001b[43m,\u001b[49m\u001b[43m \u001b[49m\u001b[43mdata_1\u001b[49m\u001b[43m,\u001b[49m\u001b[43m \u001b[49m\u001b[43mbasic_metadata\u001b[49m\u001b[43m)\u001b[49m\n\u001b[0;32m     27\u001b[0m new_meta_2 \u001b[38;5;241m=\u001b[39m tsdf\u001b[38;5;241m.\u001b[39mwrite_binary_file(data_dir, \u001b[38;5;124mf\u001b[39m\u001b[38;5;124m\"\u001b[39m\u001b[38;5;132;01m{\u001b[39;00mfile_prefix\u001b[38;5;132;01m}\u001b[39;00m\u001b[38;5;124m_2.bin\u001b[39m\u001b[38;5;124m\"\u001b[39m, data_2, basic_metadata)\n\u001b[0;32m     28\u001b[0m new_meta_3 \u001b[38;5;241m=\u001b[39m tsdf\u001b[38;5;241m.\u001b[39mwrite_binary_file(data_dir, \u001b[38;5;124mf\u001b[39m\u001b[38;5;124m\"\u001b[39m\u001b[38;5;132;01m{\u001b[39;00mfile_prefix\u001b[38;5;132;01m}\u001b[39;00m\u001b[38;5;124m_3.bin\u001b[39m\u001b[38;5;124m\"\u001b[39m, data_3, basic_metadata)\n",
      "File \u001b[1;32m~\\Documents\\PhD\\code\\tsdf\\src\\tsdf\\write_binary.py:73\u001b[0m, in \u001b[0;36mwrite_binary_file\u001b[1;34m(file_dir, file_name, data, metadata)\u001b[0m\n\u001b[0;32m     62\u001b[0m \u001b[38;5;250m\u001b[39m\u001b[38;5;124;03m\"\"\"\u001b[39;00m\n\u001b[0;32m     63\u001b[0m \u001b[38;5;124;03mSave binary file based on the provided NumPy array.\u001b[39;00m\n\u001b[0;32m     64\u001b[0m \n\u001b[1;32m   (...)\u001b[0m\n\u001b[0;32m     70\u001b[0m \u001b[38;5;124;03m:return: TSDFMetadata object.\u001b[39;00m\n\u001b[0;32m     71\u001b[0m \u001b[38;5;124;03m\"\"\"\u001b[39;00m\n\u001b[0;32m     72\u001b[0m path \u001b[38;5;241m=\u001b[39m os\u001b[38;5;241m.\u001b[39mpath\u001b[38;5;241m.\u001b[39mjoin(file_dir, file_name)\n\u001b[1;32m---> 73\u001b[0m \u001b[43mdata\u001b[49m\u001b[38;5;241;43m.\u001b[39;49m\u001b[43mtofile\u001b[49m\u001b[43m(\u001b[49m\u001b[43mpath\u001b[49m\u001b[43m)\u001b[49m\n\u001b[0;32m     74\u001b[0m metadata\u001b[38;5;241m.\u001b[39mupdate(_get_metadata_from_ndarray(data))\n\u001b[0;32m     75\u001b[0m metadata\u001b[38;5;241m.\u001b[39mupdate({\u001b[38;5;124m\"\u001b[39m\u001b[38;5;124mfile_name\u001b[39m\u001b[38;5;124m\"\u001b[39m: file_name})\n",
      "\u001b[1;31mFileNotFoundError\u001b[0m: [Errno 2] No such file or directory: 'data\\\\tmp_test_1.bin'"
     ]
    }
   ],
   "source": [
    "# Generate random data\n",
    "rs = np.random.RandomState(seed=42)\n",
    "data_1 = rs.rand(17, 1).astype(np.float32)\n",
    "data_2 = rs.rand(15, 2).astype(np.int16)\n",
    "data_3 = rs.rand(10, 3).astype(np.int16)\n",
    "\n",
    "# Define the metadata\n",
    "basic_metadata = {\n",
    "    \"subject_id\": \"example\",\n",
    "    \"study_id\": \"example\",\n",
    "    \"device_id\": \"example\",\n",
    "    \"endianness\": \"little\",\n",
    "    \"metadata_version\": \"0.1\",\n",
    "    \"start_datetime_unix_ms\": 1571135957025,\n",
    "    \"start_iso8601\": \"2019-10-15T10:39:17.025000+00:00\",\n",
    "    \"end_datetime_unix_ms\": 1571168851826,\n",
    "    \"end_iso8601\": \"2019-10-15T19:47:31.826000+00:00\",\n",
    "    \"channels\": [\"x\", \"y\", \"z\"],\n",
    "    \"units\": [\"m/s/s\", \"m/s/s\", \"m/s/s\"]\n",
    "}\n",
    "\n",
    "# Write the three binary files based on the provided metadata.\n",
    "# The new_meta variables will contain the basic_metadata, combined\n",
    "# with the fields derived from the binary data (data type, bit depth, etc.)\n",
    "file_prefix = \"tmp_test\"\n",
    "new_meta_1 = tsdf.write_binary_file(data_dir, f\"{file_prefix}_1.bin\", data_1, basic_metadata)\n",
    "new_meta_2 = tsdf.write_binary_file(data_dir, f\"{file_prefix}_2.bin\", data_2, basic_metadata)\n",
    "new_meta_3 = tsdf.write_binary_file(data_dir, f\"{file_prefix}_3.bin\", data_3, basic_metadata)\n",
    "\n",
    "# Write the metadata file, which combines the metadata, in turn referencing the three binary files\n",
    "tsdf.write_metadata([new_meta_1, new_meta_2, new_meta_3], f\"{file_prefix}_meta.json\")\n",
    "print(f\"Files written to {data_dir}/\")"
   ]
  }
 ],
 "metadata": {
  "kernelspec": {
   "display_name": "tsdf-zVA6tG---py3.9",
   "language": "python",
   "name": "python3"
  },
  "language_info": {
   "codemirror_mode": {
    "name": "ipython",
    "version": 3
   },
   "file_extension": ".py",
   "mimetype": "text/x-python",
   "name": "python",
   "nbconvert_exporter": "python",
   "pygments_lexer": "ipython3",
   "version": "3.11.5"
  }
 },
 "nbformat": 4,
 "nbformat_minor": 2
}