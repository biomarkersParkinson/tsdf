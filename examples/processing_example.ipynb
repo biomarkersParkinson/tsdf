{
 "cells": [
  {
   "cell_type": "code",
   "execution_count": 1,
   "metadata": {},
   "outputs": [],
   "source": [
    "# Reload modules automatically on changes\n",
    "%load_ext autoreload\n",
    "%autoreload 2"
   ]
  },
  {
   "cell_type": "code",
   "execution_count": 2,
   "metadata": {
    "tags": []
   },
   "outputs": [],
   "source": [
    "import tsdf\n",
    "import os\n",
    "import sys\n",
    "import numpy as np"
   ]
  },
  {
   "cell_type": "code",
   "execution_count": 3,
   "metadata": {},
   "outputs": [
    {
     "name": "stdout",
     "output_type": "stream",
     "text": [
      "int16 (10, 3)\n"
     ]
    }
   ],
   "source": [
    "DATA_DIR = \"../tests/data\"\n",
    "metadata = tsdf.load_from_path(os.path.join(DATA_DIR, \"dummy_10_3_int16.json\"))\n",
    "data_in = metadata[\"dummy_10_3_int16.bin\"].load_binary()\n",
    "print(data_in.dtype, data_in.shape)"
   ]
  },
  {
   "cell_type": "code",
   "execution_count": 4,
   "metadata": {},
   "outputs": [
    {
     "name": "stdout",
     "output_type": "stream",
     "text": [
      "float32 (10, 3)\n"
     ]
    }
   ],
   "source": [
    "# Perform some advanced data processing\n",
    "data_out = (data_in / 10).astype('float32')\n",
    "print(data_out.dtype, data_out.shape)"
   ]
  },
  {
   "cell_type": "code",
   "execution_count": 5,
   "metadata": {},
   "outputs": [
    {
     "name": "stdout",
     "output_type": "stream",
     "text": [
      "{'data_type': 'float', 'bits': 32, 'endianness': 'little'}\n"
     ]
    }
   ],
   "source": [
    "bin_meta = tsdf.get_metadata_from_ndarray(data_out)"
   ]
  },
  {
   "cell_type": "code",
   "execution_count": 6,
   "metadata": {},
   "outputs": [],
   "source": [
    "tsdf.save_binary_file('dummy_output.bin', data_out)\n",
    "\n",
    "meta = extract_fields(original_metadata, ['study_id', 'sefsef'])\n",
    "\n",
    "new_metadata = MetaData([meta, bin_meta])\n",
    "\n",
    "new_metadata = MetaData({\n",
    "    study_id: original_metadata['study_id'],\n",
    "    ...\n",
    "    bits: bin_meta['bits']\n",
    "    ...\n",
    "})"
   ]
  }
 ],
 "metadata": {
  "kernelspec": {
   "display_name": "tsdf-zVA6tG---py3.9",
   "language": "python",
   "name": "python3"
  },
  "language_info": {
   "codemirror_mode": {
    "name": "ipython",
    "version": 3
   },
   "file_extension": ".py",
   "mimetype": "text/x-python",
   "name": "python",
   "nbconvert_exporter": "python",
   "pygments_lexer": "ipython3",
   "version": "3.9.13 | packaged by conda-forge | (main, May 27 2022, 17:00:33) \n[Clang 13.0.1 ]"
  },
  "orig_nbformat": 4,
  "vscode": {
   "interpreter": {
    "hash": "d1e978847a77d4ff49203fd09f0f7925f58560bf1007438482d75cb657018d9b"
   }
  }
 },
 "nbformat": 4,
 "nbformat_minor": 2
}
