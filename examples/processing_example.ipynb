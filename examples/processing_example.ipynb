{
 "cells": [
  {
   "cell_type": "code",
   "execution_count": 1,
   "metadata": {},
   "outputs": [],
   "source": [
    "# Reload modules automatically on changes\n",
    "%load_ext autoreload\n",
    "%autoreload 2"
   ]
  },
  {
   "attachments": {},
   "cell_type": "markdown",
   "metadata": {},
   "source": [
    "#### Required import"
   ]
  },
  {
   "cell_type": "code",
   "execution_count": 2,
   "metadata": {
    "tags": []
   },
   "outputs": [],
   "source": [
    "import tsdf\n",
    "import os\n",
    "import sys\n",
    "import numpy as np"
   ]
  },
  {
   "attachments": {},
   "cell_type": "markdown",
   "metadata": {},
   "source": [
    "#### Load dummy data and see its format"
   ]
  },
  {
   "cell_type": "code",
   "execution_count": 3,
   "metadata": {},
   "outputs": [
    {
     "name": "stdout",
     "output_type": "stream",
     "text": [
      "Data type used for storing:\t int16\n",
      "Data dimensions:\t\t (10, 3)\n",
      "Number of rows:\t\t\t 10\n"
     ]
    }
   ],
   "source": [
    "DATA_DIR = \"../tests/data\"\n",
    "metadata = tsdf.load_metadata_from_path(os.path.join(DATA_DIR, \"dummy_10_3_int16.json\"))\n",
    "data_in_1 = metadata[\"dummy_10_3_int16.bin\"].load_binary()\n",
    "print(f\"Data type used for storing:\\t {data_in_1.dtype}\")\n",
    "print(f\"Data dimensions:\\t\\t {data_in_1.shape}\")\n",
    "print(f\"Number of rows:\\t\\t\\t {data_in_1.shape[0]}\")\n",
    "#print(data_in_1)"
   ]
  },
  {
   "attachments": {},
   "cell_type": "markdown",
   "metadata": {},
   "source": [
    "#### Perform some data processing and visualise the new structure"
   ]
  },
  {
   "cell_type": "code",
   "execution_count": 4,
   "metadata": {},
   "outputs": [
    {
     "name": "stdout",
     "output_type": "stream",
     "text": [
      "float32 (10, 3)\n",
      "Data type used for storing:\t float32\n",
      "Data dimensions:\t\t (10, 3)\n",
      "Number of rows:\t\t\t 10\n"
     ]
    }
   ],
   "source": [
    "data_out_1 = (data_in_1 / 10).astype('float32')\n",
    "print(data_out_1.dtype, data_out_1.shape)\n",
    "print(f\"Data type used for storing:\\t {data_out_1.dtype}\")\n",
    "print(f\"Data dimensions:\\t\\t {data_out_1.shape}\")\n",
    "print(f\"Number of rows:\\t\\t\\t {data_out_1.shape[0]}\")"
   ]
  },
  {
   "attachments": {},
   "cell_type": "markdown",
   "metadata": {},
   "source": [
    "#### Visualise metadata available directly from the data (NumPy array)"
   ]
  },
  {
   "cell_type": "code",
   "execution_count": 5,
   "metadata": {},
   "outputs": [
    {
     "name": "stdout",
     "output_type": "stream",
     "text": [
      "Binary formatting that can be inferred from the NumPy array:\n",
      "{'data_type': 'float', 'bits': 32, 'endianness': 'little', 'rows': 10}\n"
     ]
    }
   ],
   "source": [
    "bin_meta = tsdf.get_metadata_from_ndarray(data_out_1)\n",
    "print(f\"Binary formatting that can be inferred from the NumPy array:\\n{bin_meta}\")"
   ]
  },
  {
   "attachments": {},
   "cell_type": "markdown",
   "metadata": {},
   "source": [
    "#### Write the processed file data"
   ]
  },
  {
   "cell_type": "code",
   "execution_count": null,
   "metadata": {},
   "outputs": [],
   "source": []
  },
  {
   "attachments": {},
   "cell_type": "markdown",
   "metadata": {},
   "source": [
    "#### Genarate binary\n",
    "Generate binary data and save it and the corresponding TSDF metadata file."
   ]
  },
  {
   "cell_type": "code",
   "execution_count": 6,
   "metadata": {},
   "outputs": [
    {
     "name": "stdout",
     "output_type": "stream",
     "text": [
      "{'_source_path': '/Users/vedran/git/biomarkersParkinon/tsdf/tests/data/dummy_10_3_int16.json', 'subject_id': 'dummy', 'study_id': 'dummy', 'device_id': 'dummy', 'endianness': 'little', 'metadata_version': '0.1', 'start_datetime_unix_ms': 1571135957025, 'start_iso8601': '2019-10-15T10:39:17.025000+00:00', 'end_datetime_unix_ms': 1571168851826, 'end_iso8601': '2019-10-15T19:47:31.826000+00:00', 'file_name': 'dummy_10_3_int16.bin', 'channels': ['x', 'y', 'z'], 'units': ['m/s/s', 'm/s/s', 'm/s/s'], 'scale_factors': [0.00469378, 0.00469378, 0.00469378], 'data_type': 'int', 'bits': 16, 'rows': 10}\n",
      "{'_source_path': '/Users/vedran/git/biomarkersParkinon/tsdf/tests/data/dummy_10_3_int16.json', 'subject_id': 'dummy', 'study_id': 'dummy', 'device_id': 'dummy', 'endianness': 'little', 'metadata_version': '0.1', 'start_datetime_unix_ms': 1571135957025, 'start_iso8601': '2019-10-15T10:39:17.025000+00:00', 'end_datetime_unix_ms': 1571168851826, 'end_iso8601': '2019-10-15T19:47:31.826000+00:00', 'file_name': 'dummy_10_3_int16.bin', 'channels': ['x', 'y', 'z'], 'units': ['m/s/s', 'm/s/s', 'm/s/s'], 'scale_factors': [0.00469378, 0.00469378, 0.00469378], 'data_type': 'float', 'bits': 32, 'rows': 17}\n"
     ]
    }
   ],
   "source": [
    "path = os.path.join(DATA_DIR, \"test_output_1.bin\")\n",
    "rs = np.random.RandomState(seed=42)\n",
    "data = rs.rand(17, 1).astype(np.float32)\n",
    "\n",
    "meta_file = \"dummy_10_3_int16.json\"\n",
    "bin_file = \"dummy_10_3_int16.bin\"\n",
    "path = os.path.join(DATA_DIR, meta_file)\n",
    "metadata:tsdf.TSDFMetadata = tsdf.load_metadata_from_path(path)[bin_file]\n",
    "#print(metadata)\n",
    "print(metadata.__dict__)\n",
    "local_path = os.path.join(DATA_DIR, \"local_data\")\n",
    "new_meta =  tsdf.save_binary_file(local_path, bin_file, data, metadata.__dict__)\n",
    "print(new_meta.__dict__)\n",
    "\n"
   ]
  },
  {
   "cell_type": "code",
   "execution_count": 7,
   "metadata": {},
   "outputs": [
    {
     "name": "stdout",
     "output_type": "stream",
     "text": [
      "!\n",
      "{'_source_path': '/Users/vedran/git/biomarkersParkinon/tsdf/tests/data/dummy_10_3_int16.json', 'subject_id': 'dummy', 'study_id': 'dummy', 'device_id': 'dummy', 'endianness': 'little', 'metadata_version': '0.1', 'start_datetime_unix_ms': 1571135957025, 'start_iso8601': '2019-10-15T10:39:17.025000+00:00', 'end_datetime_unix_ms': 1571168851826, 'end_iso8601': '2019-10-15T19:47:31.826000+00:00', 'file_name': 'dummy_10_3_int16.bin', 'channels': ['x', 'y', 'z'], 'units': ['m/s/s', 'm/s/s', 'm/s/s'], 'scale_factors': [0.00469378, 0.00469378, 0.00469378], 'data_type': 'float', 'bits': 32, 'rows': 17}\n"
     ]
    }
   ],
   "source": [
    "tsdf.save_metadata([new_meta])"
   ]
  },
  {
   "cell_type": "code",
   "execution_count": 63,
   "metadata": {},
   "outputs": [
    {
     "ename": "SyntaxError",
     "evalue": "invalid syntax (1896731653.py, line 12)",
     "output_type": "error",
     "traceback": [
      "\u001b[0;36m  Cell \u001b[0;32mIn[63], line 12\u001b[0;36m\u001b[0m\n\u001b[0;31m    bits: bin_meta['bits']\u001b[0m\n\u001b[0m    ^\u001b[0m\n\u001b[0;31mSyntaxError\u001b[0m\u001b[0;31m:\u001b[0m invalid syntax\n"
     ]
    }
   ],
   "source": [
    "meta = extract_fields(original_metadata, ['study_id', 'sefsef'])\n",
    "\n",
    "meta_1 = tsdf.save_binary_file('dummy_output.bin', data_out_1)\n",
    "\n",
    "\n",
    "\n",
    "new_metadata = MetaData([meta, bin_meta])\n",
    "\n",
    "new_metadata = MetaData({\n",
    "    study_id: original_metadata['study_id'],\n",
    "    ...\n",
    "    bits: bin_meta['bits']\n",
    "    ...\n",
    "})"
   ]
  }
 ],
 "metadata": {
  "kernelspec": {
   "display_name": "tsdf-jvrgVaBR-py3.9",
   "language": "python",
   "name": "python3"
  },
  "language_info": {
   "codemirror_mode": {
    "name": "ipython",
    "version": 3
   },
   "file_extension": ".py",
   "mimetype": "text/x-python",
   "name": "python",
   "nbconvert_exporter": "python",
   "pygments_lexer": "ipython3",
   "version": "3.9.12"
  },
  "orig_nbformat": 4,
  "vscode": {
   "interpreter": {
    "hash": "0d75824af0ee1a2e7ac98055f9a1e179243bcaf829c515bd362f48ceaa63be97"
   }
  }
 },
 "nbformat": 4,
 "nbformat_minor": 2
}
