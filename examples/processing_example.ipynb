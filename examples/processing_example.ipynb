{
 "cells": [
  {
   "cell_type": "code",
   "execution_count": 201,
   "metadata": {},
   "outputs": [
    {
     "name": "stdout",
     "output_type": "stream",
     "text": [
      "The autoreload extension is already loaded. To reload it, use:\n",
      "  %reload_ext autoreload\n"
     ]
    }
   ],
   "source": [
    "# Reload modules automatically on changes\n",
    "%load_ext autoreload\n",
    "%autoreload 2"
   ]
  },
  {
   "attachments": {},
   "cell_type": "markdown",
   "metadata": {},
   "source": [
    "#### Required import"
   ]
  },
  {
   "cell_type": "code",
   "execution_count": 202,
   "metadata": {
    "tags": []
   },
   "outputs": [],
   "source": [
    "import tsdf\n",
    "import os\n",
    "import sys\n",
    "import numpy as np"
   ]
  },
  {
   "attachments": {},
   "cell_type": "markdown",
   "metadata": {},
   "source": [
    "#### Load dummy data and see its format"
   ]
  },
  {
   "cell_type": "code",
   "execution_count": 203,
   "metadata": {},
   "outputs": [
    {
     "name": "stdout",
     "output_type": "stream",
     "text": [
      "Data type used for storing:\t int16\n",
      "Data dimensions:\t\t (10, 3)\n",
      "Number of rows:\t\t\t 10\n"
     ]
    }
   ],
   "source": [
    "DATA_DIR = \"../tests/data\"\n",
    "metadata = tsdf.load_metadata_from_path(os.path.join(DATA_DIR, \"dummy_10_3_int16.json\"))\n",
    "data_in_1 = metadata[\"dummy_10_3_int16.bin\"].load_binary()\n",
    "print(f\"Data type used for storing:\\t {data_in_1.dtype}\")\n",
    "print(f\"Data dimensions:\\t\\t {data_in_1.shape}\")\n",
    "print(f\"Number of rows:\\t\\t\\t {data_in_1.shape[0]}\")"
   ]
  },
  {
   "attachments": {},
   "cell_type": "markdown",
   "metadata": {},
   "source": [
    "#### Perform light data processing"
   ]
  },
  {
   "cell_type": "code",
   "execution_count": 204,
   "metadata": {},
   "outputs": [
    {
     "name": "stdout",
     "output_type": "stream",
     "text": [
      "float32 (10, 3)\n",
      "Data type used for storing:\t float32\n",
      "Data dimensions:\t\t (10, 3)\n",
      "Number of rows:\t\t\t 10\n"
     ]
    }
   ],
   "source": [
    "data_out_1 = (data_in_1 / 10).astype('float32')\n",
    "print(data_out_1.dtype, data_out_1.shape)\n",
    "print(f\"Data type used for storing:\\t {data_out_1.dtype}\")\n",
    "print(f\"Data dimensions:\\t\\t {data_out_1.shape}\")\n",
    "print(f\"Number of rows:\\t\\t\\t {data_out_1.shape[0]}\")"
   ]
  },
  {
   "attachments": {},
   "cell_type": "markdown",
   "metadata": {},
   "source": [
    "#### Metadata available from the data (NumPy array)"
   ]
  },
  {
   "cell_type": "code",
   "execution_count": 205,
   "metadata": {},
   "outputs": [
    {
     "name": "stdout",
     "output_type": "stream",
     "text": [
      "Binary formatting that can be inferred from the NumPy array:\n",
      "{'data_type': 'float', 'bits': 32, 'endianness': 'little', 'rows': 10}\n"
     ]
    }
   ],
   "source": [
    "bin_meta = tsdf.get_metadata_from_ndarray(data_out_1)\n",
    "print(f\"Binary formatting that can be inferred from the NumPy array:\\n{bin_meta}\")"
   ]
  },
  {
   "attachments": {},
   "cell_type": "markdown",
   "metadata": {},
   "source": [
    "#### Write the processed file data"
   ]
  },
  {
   "cell_type": "code",
   "execution_count": null,
   "metadata": {},
   "outputs": [],
   "source": [
    "# TODO: Add an example where the metadata is fully specified in "
   ]
  },
  {
   "attachments": {},
   "cell_type": "markdown",
   "metadata": {},
   "source": [
    "#### Genarate binary\n",
    "Generate binary data and save it and the corresponding TSDF metadata file."
   ]
  },
  {
   "cell_type": "code",
   "execution_count": 206,
   "metadata": {},
   "outputs": [],
   "source": [
    "path = os.path.join(DATA_DIR, \"test_output_1.bin\")\n",
    "rs = np.random.RandomState(seed=42)\n",
    "data_1 = rs.rand(17, 1).astype(np.float32)\n",
    "data_2 = rs.rand(15, 2).astype(np.int16)\n",
    "\n",
    "meta_file = \"dummy_10_3_int16.json\"\n",
    "bin_file = \"dummy_10_3_int16.bin\"\n",
    "path = os.path.join(DATA_DIR, meta_file)\n",
    "loaded_meta:tsdf.TSDFMetadata = tsdf.load_metadata_from_path(path)[bin_file]\n",
    "#print(metadata)\n",
    "local_path = os.path.join(DATA_DIR, \"local_test_out\")\n",
    "new_meta_1 =  tsdf.write_binary_file(local_path, \"test_1.bin\", data_1, loaded_meta.get_plain_tsdf_dict())\n",
    "new_meta_2 =  tsdf.write_binary_file(local_path, \"test_2.bin\", data_2, loaded_meta.get_plain_tsdf_dict())\n",
    "\n"
   ]
  },
  {
   "attachments": {},
   "cell_type": "markdown",
   "metadata": {},
   "source": [
    "Save the metadata that corresponds to the binary data. In case of multiple binary files, the corresponding metadata files have to be combined."
   ]
  },
  {
   "cell_type": "code",
   "execution_count": 207,
   "metadata": {},
   "outputs": [],
   "source": [
    "# Write a single metadata file\n",
    "tsdf.write_metadata([new_meta_1], \"test1.json\")"
   ]
  },
  {
   "cell_type": "code",
   "execution_count": 208,
   "metadata": {},
   "outputs": [],
   "source": [
    "# Combine and write two metadata files\n",
    "tsdf.write_metadata([new_meta_1, new_meta_2], \"test2.json\")"
   ]
  }
 ],
 "metadata": {
  "kernelspec": {
   "display_name": "tsdf-jvrgVaBR-py3.9",
   "language": "python",
   "name": "python3"
  },
  "language_info": {
   "codemirror_mode": {
    "name": "ipython",
    "version": 3
   },
   "file_extension": ".py",
   "mimetype": "text/x-python",
   "name": "python",
   "nbconvert_exporter": "python",
   "pygments_lexer": "ipython3",
   "version": "3.9.12"
  },
  "orig_nbformat": 4,
  "vscode": {
   "interpreter": {
    "hash": "0d75824af0ee1a2e7ac98055f9a1e179243bcaf829c515bd362f48ceaa63be97"
   }
  }
 },
 "nbformat": 4,
 "nbformat_minor": 2
}
